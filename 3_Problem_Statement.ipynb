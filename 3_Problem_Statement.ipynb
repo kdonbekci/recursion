{
 "cells": [
  {
   "cell_type": "code",
   "execution_count": 46,
   "metadata": {},
   "outputs": [],
   "source": [
    "from utils import *\n",
    "import numpy as np\n",
    "import pandas as pd\n",
    "import matplotlib.pyplot as plt\n",
    "import math\n",
    "import h5py\n",
    "from tqdm import tqdm\n",
    "from sklearn.utils import shuffle"
   ]
  },
  {
   "cell_type": "markdown",
   "metadata": {},
   "source": [
    "# Problem Statement and Setup\n",
    "We will be focusing on the Hep G2 cells in the dataset to limit the scope of our project. Depending on our progress, we have a path to extend the project by incorporating other cell types as well.\n",
    "\n",
    "### Tasks:\n",
    "1. Separate HEPG2 experiments based t-SNE plots (2 test, 5train).\n",
    "2. Create a baseline method for siRNA classification.\n",
    "3. Train model on HEPG2 data.\n",
    "4. Create denoising procedures. \n",
    "5. Train model on denoised data.\n",
    "6. Compare $\\Delta$accuracy. "
   ]
  },
  {
   "cell_type": "markdown",
   "metadata": {},
   "source": [
    "#### Train, test splits"
   ]
  },
  {
   "cell_type": "markdown",
   "metadata": {},
   "source": [
    "Observing the t-SNE plots from previous notebook, we will use HEPG2-02 and HEPG2-04 as our test set. The reasoning behind is, we want our test sets to not be similar to each other as well as from our train sets."
   ]
  },
  {
   "cell_type": "code",
   "execution_count": 2,
   "metadata": {},
   "outputs": [],
   "source": [
    "train_experiments = ['HEPG2-01', 'HEPG2-03', 'HEPG2-05', 'HEPG2-06', 'HEPG2-07']\n",
    "test_experiments = ['HEPG2-02', 'HEPG2-04']"
   ]
  },
  {
   "cell_type": "markdown",
   "metadata": {},
   "source": [
    "1 input --> vae --> compare to k other experiments and itself"
   ]
  },
  {
   "cell_type": "code",
   "execution_count": 3,
   "metadata": {},
   "outputs": [],
   "source": [
    "def nCk(n, k):\n",
    "    return math.factorial(n) // math.factorial(k) // math.factorial(n - k)"
   ]
  },
  {
   "cell_type": "code",
   "execution_count": 4,
   "metadata": {},
   "outputs": [],
   "source": [
    "train_experiment_count = 5\n",
    "total_experiment_count = 7\n",
    "plates_per_experiment = 4\n",
    "k = 2\n",
    "sites_per_well = 2\n",
    "images_per_site = 4\n",
    "channels_per_image = 6\n",
    "res = 256\n",
    "# n_train = (control_sirna_count * train_experiment_count * plates_per_experiment * images_per_well #choose input\n",
    "#            * nCk(train_experiment_count-1, k) * plates_per_experiment**k * images_per_well)\n",
    "# print('{:,} unique training examples'.format(n_train))"
   ]
  },
  {
   "cell_type": "code",
   "execution_count": 5,
   "metadata": {},
   "outputs": [
    {
     "data": {
      "text/html": [
       "<div>\n",
       "<style scoped>\n",
       "    .dataframe tbody tr th:only-of-type {\n",
       "        vertical-align: middle;\n",
       "    }\n",
       "\n",
       "    .dataframe tbody tr th {\n",
       "        vertical-align: top;\n",
       "    }\n",
       "\n",
       "    .dataframe thead th {\n",
       "        text-align: right;\n",
       "    }\n",
       "</style>\n",
       "<table border=\"1\" class=\"dataframe\">\n",
       "  <thead>\n",
       "    <tr style=\"text-align: right;\">\n",
       "      <th></th>\n",
       "      <th>id_code</th>\n",
       "      <th>experiment</th>\n",
       "      <th>plate</th>\n",
       "      <th>well</th>\n",
       "      <th>sirna</th>\n",
       "      <th>well_type</th>\n",
       "      <th>cell_line</th>\n",
       "    </tr>\n",
       "  </thead>\n",
       "  <tbody>\n",
       "    <tr>\n",
       "      <th>0</th>\n",
       "      <td>HEPG2-01_1_H22</td>\n",
       "      <td>HEPG2-01</td>\n",
       "      <td>1</td>\n",
       "      <td>H22</td>\n",
       "      <td>1108</td>\n",
       "      <td>positive_control</td>\n",
       "      <td>HEPG2</td>\n",
       "    </tr>\n",
       "    <tr>\n",
       "      <th>1</th>\n",
       "      <td>HEPG2-01_2_H03</td>\n",
       "      <td>HEPG2-01</td>\n",
       "      <td>2</td>\n",
       "      <td>H03</td>\n",
       "      <td>1108</td>\n",
       "      <td>positive_control</td>\n",
       "      <td>HEPG2</td>\n",
       "    </tr>\n",
       "    <tr>\n",
       "      <th>2</th>\n",
       "      <td>HEPG2-01_3_M07</td>\n",
       "      <td>HEPG2-01</td>\n",
       "      <td>3</td>\n",
       "      <td>M07</td>\n",
       "      <td>1108</td>\n",
       "      <td>positive_control</td>\n",
       "      <td>HEPG2</td>\n",
       "    </tr>\n",
       "    <tr>\n",
       "      <th>3</th>\n",
       "      <td>HEPG2-01_4_M15</td>\n",
       "      <td>HEPG2-01</td>\n",
       "      <td>4</td>\n",
       "      <td>M15</td>\n",
       "      <td>1108</td>\n",
       "      <td>positive_control</td>\n",
       "      <td>HEPG2</td>\n",
       "    </tr>\n",
       "    <tr>\n",
       "      <th>4</th>\n",
       "      <td>HEPG2-02_1_C22</td>\n",
       "      <td>HEPG2-02</td>\n",
       "      <td>1</td>\n",
       "      <td>C22</td>\n",
       "      <td>1108</td>\n",
       "      <td>positive_control</td>\n",
       "      <td>HEPG2</td>\n",
       "    </tr>\n",
       "    <tr>\n",
       "      <th>...</th>\n",
       "      <td>...</td>\n",
       "      <td>...</td>\n",
       "      <td>...</td>\n",
       "      <td>...</td>\n",
       "      <td>...</td>\n",
       "      <td>...</td>\n",
       "      <td>...</td>\n",
       "    </tr>\n",
       "    <tr>\n",
       "      <th>777</th>\n",
       "      <td>HEPG2-06_2_F22</td>\n",
       "      <td>HEPG2-06</td>\n",
       "      <td>2</td>\n",
       "      <td>F22</td>\n",
       "      <td>1136</td>\n",
       "      <td>positive_control</td>\n",
       "      <td>HEPG2</td>\n",
       "    </tr>\n",
       "    <tr>\n",
       "      <th>778</th>\n",
       "      <td>HEPG2-06_3_J11</td>\n",
       "      <td>HEPG2-06</td>\n",
       "      <td>3</td>\n",
       "      <td>J11</td>\n",
       "      <td>1136</td>\n",
       "      <td>positive_control</td>\n",
       "      <td>HEPG2</td>\n",
       "    </tr>\n",
       "    <tr>\n",
       "      <th>779</th>\n",
       "      <td>HEPG2-06_4_H11</td>\n",
       "      <td>HEPG2-06</td>\n",
       "      <td>4</td>\n",
       "      <td>H11</td>\n",
       "      <td>1136</td>\n",
       "      <td>positive_control</td>\n",
       "      <td>HEPG2</td>\n",
       "    </tr>\n",
       "    <tr>\n",
       "      <th>780</th>\n",
       "      <td>HEPG2-07_1_F03</td>\n",
       "      <td>HEPG2-07</td>\n",
       "      <td>1</td>\n",
       "      <td>F03</td>\n",
       "      <td>1136</td>\n",
       "      <td>positive_control</td>\n",
       "      <td>HEPG2</td>\n",
       "    </tr>\n",
       "    <tr>\n",
       "      <th>781</th>\n",
       "      <td>HEPG2-07_2_C22</td>\n",
       "      <td>HEPG2-07</td>\n",
       "      <td>2</td>\n",
       "      <td>C22</td>\n",
       "      <td>1136</td>\n",
       "      <td>positive_control</td>\n",
       "      <td>HEPG2</td>\n",
       "    </tr>\n",
       "  </tbody>\n",
       "</table>\n",
       "<p>782 rows × 7 columns</p>\n",
       "</div>"
      ],
      "text/plain": [
       "            id_code experiment  plate well  sirna         well_type cell_line\n",
       "0    HEPG2-01_1_H22   HEPG2-01      1  H22   1108  positive_control     HEPG2\n",
       "1    HEPG2-01_2_H03   HEPG2-01      2  H03   1108  positive_control     HEPG2\n",
       "2    HEPG2-01_3_M07   HEPG2-01      3  M07   1108  positive_control     HEPG2\n",
       "3    HEPG2-01_4_M15   HEPG2-01      4  M15   1108  positive_control     HEPG2\n",
       "4    HEPG2-02_1_C22   HEPG2-02      1  C22   1108  positive_control     HEPG2\n",
       "..              ...        ...    ...  ...    ...               ...       ...\n",
       "777  HEPG2-06_2_F22   HEPG2-06      2  F22   1136  positive_control     HEPG2\n",
       "778  HEPG2-06_3_J11   HEPG2-06      3  J11   1136  positive_control     HEPG2\n",
       "779  HEPG2-06_4_H11   HEPG2-06      4  H11   1136  positive_control     HEPG2\n",
       "780  HEPG2-07_1_F03   HEPG2-07      1  F03   1136  positive_control     HEPG2\n",
       "781  HEPG2-07_2_C22   HEPG2-07      2  C22   1136  positive_control     HEPG2\n",
       "\n",
       "[782 rows x 7 columns]"
      ]
     },
     "execution_count": 5,
     "metadata": {},
     "output_type": "execute_result"
    }
   ],
   "source": [
    "train_controls_df = pd.read_csv(os.path.join(RECURSION_TRAIN, 'train_controls.csv'))\n",
    "train_controls_df['cell_line'] = [v[0] for v in train_controls_df.id_code.str.split('-')]\n",
    "train_controls_df = train_controls_df[train_controls_df['cell_line'] == 'HEPG2']\n",
    "train_controls_df = train_controls_df[train_controls_df['well_type'] == 'positive_control']\n",
    "missing_sirna = list(set(train_controls_df.sirna).difference(set(train_controls_df.query('experiment == \"HEPG2-07\" and plate == 2').sirna.values)))\n",
    "train_controls_df = train_controls_df.query('sirna not in @missing_sirna')\n",
    "train_controls_df = train_controls_df.sort_values(by=['sirna', 'experiment', 'plate'])\n",
    "train_controls_df = train_controls_df.reset_index(drop=True)\n",
    "sirnas = list(train_controls_df.sirna.unique())\n",
    "sirnas = {sirna: i for i, sirna in enumerate(sirnas)}\n",
    "control_sirna_count = len(sirnas)\n",
    "train_controls_df.head(-30)"
   ]
  },
  {
   "cell_type": "code",
   "execution_count": 6,
   "metadata": {},
   "outputs": [
    {
     "name": "stderr",
     "output_type": "stream",
     "text": [
      "812it [00:42, 19.30it/s]\n"
     ]
    }
   ],
   "source": [
    "images = np.empty((control_sirna_count, total_experiment_count, plates_per_experiment, \n",
    "                        sites_per_well, images_per_site, res, res, channels_per_image), dtype=np.float32)\n",
    "for i, row in tqdm(train_controls_df.iterrows()):\n",
    "    sirna = sirnas[row.sirna]\n",
    "    exp = int(row.experiment[-1:]) - 1\n",
    "    plate = row.plate - 1\n",
    "    for site in range(sites_per_well):\n",
    "        for ch in range(channels_per_image):\n",
    "            path = get_image_path(row.experiment, row.plate, row.well, site+1, ch+1, train=True)\n",
    "            img = read_image(path)\n",
    "            img_1 = img[None, :256, :256]\n",
    "            img_2 = img[None, :256, -256:]\n",
    "            img_3 = img[None, -256:, :256]\n",
    "            img_4 = img[None, -256:, -256:]\n",
    "            img = np.concatenate((img_1, img_2, img_3, img_4))\n",
    "            images[sirna, exp, plate, site, :, :, :, ch] = img"
   ]
  },
  {
   "cell_type": "markdown",
   "metadata": {},
   "source": [
    "### Exporting to h5 and npy files"
   ]
  },
  {
   "cell_type": "code",
   "execution_count": 14,
   "metadata": {},
   "outputs": [
    {
     "data": {
      "text/plain": [
       "(29, 7, 4, 2, 4)"
      ]
     },
     "execution_count": 14,
     "metadata": {},
     "output_type": "execute_result"
    }
   ],
   "source": [
    "images.shape[:5]"
   ]
  },
  {
   "cell_type": "code",
   "execution_count": 13,
   "metadata": {},
   "outputs": [
    {
     "data": {
      "text/plain": [
       "6496"
      ]
     },
     "execution_count": 13,
     "metadata": {},
     "output_type": "execute_result"
    }
   ],
   "source": [
    "np.product(images.shape[:5])"
   ]
  },
  {
   "cell_type": "code",
   "execution_count": 41,
   "metadata": {},
   "outputs": [],
   "source": [
    "dataset_x = images.reshape(np.product(images.shape[:5]), 256, 256, 6)\n",
    "dataset_y = np.repeat(np.arange(29, dtype=np.int32), np.product(images.shape[1:5]))"
   ]
  },
  {
   "cell_type": "code",
   "execution_count": 48,
   "metadata": {},
   "outputs": [],
   "source": [
    "dataset_x, dataset_y = shuffle(dataset_x, dataset_y)"
   ]
  },
  {
   "cell_type": "code",
   "execution_count": null,
   "metadata": {},
   "outputs": [],
   "source": [
    "np.save(os.path.join(RECURSION_DIR, 'npy', 'train-controls-f32.npy'), images, allow_pickle=False)"
   ]
  },
  {
   "cell_type": "code",
   "execution_count": 43,
   "metadata": {},
   "outputs": [],
   "source": [
    "hf = h5py.File(os.path.join(RECURSION_DIR, 'h5', 'train-controls-f32.h5'), 'w')"
   ]
  },
  {
   "cell_type": "code",
   "execution_count": 44,
   "metadata": {},
   "outputs": [
    {
     "data": {
      "text/plain": [
       "<HDF5 dataset \"structured\": shape (29, 7, 4, 2, 4, 256, 256, 6), type \"<f4\">"
      ]
     },
     "execution_count": 44,
     "metadata": {},
     "output_type": "execute_result"
    }
   ],
   "source": [
    "hf.create_dataset('structured', data=images)"
   ]
  },
  {
   "cell_type": "code",
   "execution_count": 51,
   "metadata": {},
   "outputs": [
    {
     "data": {
      "text/plain": [
       "<HDF5 dataset \"dataset_y\": shape (6496,), type \"<i4\">"
      ]
     },
     "execution_count": 51,
     "metadata": {},
     "output_type": "execute_result"
    }
   ],
   "source": [
    "hf.create_dataset('dataset_x', data=dataset_x)\n",
    "hf.create_dataset('dataset_y', data=dataset_y)"
   ]
  },
  {
   "cell_type": "code",
   "execution_count": 52,
   "metadata": {},
   "outputs": [],
   "source": [
    "hf.close()"
   ]
  },
  {
   "cell_type": "code",
   "execution_count": null,
   "metadata": {},
   "outputs": [],
   "source": []
  }
 ],
 "metadata": {
  "kernelspec": {
   "display_name": "Python [conda env:recursion]",
   "language": "python",
   "name": "conda-env-recursion-py"
  },
  "language_info": {
   "codemirror_mode": {
    "name": "ipython",
    "version": 3
   },
   "file_extension": ".py",
   "mimetype": "text/x-python",
   "name": "python",
   "nbconvert_exporter": "python",
   "pygments_lexer": "ipython3",
   "version": "3.6.9"
  }
 },
 "nbformat": 4,
 "nbformat_minor": 4
}
