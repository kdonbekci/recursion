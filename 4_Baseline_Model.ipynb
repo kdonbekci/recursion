{
 "cells": [
  {
   "cell_type": "code",
   "execution_count": 61,
   "metadata": {},
   "outputs": [],
   "source": [
    "from utils import *\n",
    "from efficientnet_pytorch import EfficientNet\n",
    "import torch\n",
    "import torch.nn as nn\n",
    "from torch.utils.data import Dataset, DataLoader\n",
    "import torch.nn.functional as F\n",
    "import torchvision\n",
    "from sklearn.metrics import classification_report\n",
    "import torchvision.transforms as transforms\n",
    "import seaborn\n",
    "seaborn.set()"
   ]
  },
  {
   "cell_type": "markdown",
   "metadata": {},
   "source": [
    "# Baseline Model"
   ]
  },
  {
   "cell_type": "markdown",
   "metadata": {},
   "source": [
    "### Findings:\n",
    "1. 15 epochs is good for the baseline.\n",
    "2. Baseline accuracy is around ~.225."
   ]
  },
  {
   "cell_type": "code",
   "execution_count": 16,
   "metadata": {},
   "outputs": [],
   "source": [
    "BATCH_SIZE = 12\n",
    "NUM_EPOCHS = 25\n",
    "SAVE_EVERY = 5\n",
    "VAL_EVERY = 5"
   ]
  },
  {
   "cell_type": "code",
   "execution_count": 3,
   "metadata": {},
   "outputs": [],
   "source": [
    "train_experiments = set(['HEPG2-01', 'HEPG2-03', 'HEPG2-05', 'HEPG2-06', 'HEPG2-07'])\n",
    "test_experiments = set(['HEPG2-02', 'HEPG2-04'])\n",
    "\n",
    "train_df = pd.read_csv(os.path.join(RECURSION_TRAIN_DIR, 'train.csv'))\n",
    "train_df['cell_line'] = [v[0] for v in train_df.id_code.str.split('-')]\n",
    "train_df = train_df[train_df['cell_line'] == 'HEPG2']\n",
    "train_dfs = []\n",
    "for site in range(2):\n",
    "    cp = train_df.copy()\n",
    "    cp['site'] = site+1\n",
    "    train_dfs.append(cp)\n",
    "train_df = pd.concat(train_dfs)\n",
    "test_df = train_df.query('experiment in @test_experiments')\n",
    "test_df = test_df.reset_index(drop=True)\n",
    "train_df = train_df.query('experiment in @train_experiments')\n",
    "train_df = train_df.sample(frac=1).reset_index(drop=True) #SHUFFLE"
   ]
  },
  {
   "cell_type": "code",
   "execution_count": 4,
   "metadata": {},
   "outputs": [],
   "source": [
    "class RxRx1(Dataset):\n",
    "    def __init__(self, df, is_train_dataset=True):\n",
    "        self.df = df\n",
    "        self.is_train_dataset = is_train_dataset\n",
    "        \n",
    "    def __len__(self):\n",
    "        return len(self.df)\n",
    "    \n",
    "    def __getitem__(self, idx):\n",
    "        row = self.df.loc[idx]\n",
    "        exp, well, plate, site = row.experiment, row.well, row.plate, row.site\n",
    "        img_channels = [read_image(get_image_path(exp, plate, well, site, ch, train=True)) for ch in range(1,7)]\n",
    "        img = np.stack(img_channels, axis=2).T\n",
    "        if self.is_train_dataset:\n",
    "            return img, np.array([row.sirna.astype('int32')])\n",
    "        return img"
   ]
  },
  {
   "cell_type": "code",
   "execution_count": 5,
   "metadata": {},
   "outputs": [],
   "source": [
    "train_set = RxRx1(train_df)\n",
    "test_set = RxRx1(test_df)\n",
    "train_loader = DataLoader(dataset=train_set, batch_size=BATCH_SIZE, shuffle=True, num_workers=10)\n",
    "test_loader = DataLoader(dataset=test_set, batch_size=BATCH_SIZE, shuffle=False, num_workers=10)"
   ]
  },
  {
   "cell_type": "code",
   "execution_count": 8,
   "metadata": {},
   "outputs": [],
   "source": [
    "data, target = next(iter(train_loader))"
   ]
  },
  {
   "cell_type": "code",
   "execution_count": 9,
   "metadata": {},
   "outputs": [
    {
     "name": "stdout",
     "output_type": "stream",
     "text": [
      "torch.Size([12, 6, 512, 512]) torch.Size([12, 1])\n"
     ]
    }
   ],
   "source": [
    "print(data.shape, target.shape)"
   ]
  },
  {
   "cell_type": "code",
   "execution_count": 10,
   "metadata": {},
   "outputs": [],
   "source": [
    "def baseline_model(num_classes=1108):\n",
    "    model = EfficientNet.from_pretrained('efficientnet-b0', num_classes=num_classes)\n",
    "    trained_kernel = model._conv_stem.weight\n",
    "    new_conv = nn.Sequential(nn.Conv2d(6, 32, kernel_size=(3,3), stride=(2,2), bias=False),\n",
    "                nn.ZeroPad2d(padding=(0, 1, 0, 1)))\n",
    "    with torch.no_grad():\n",
    "        new_conv[0].weight[:,:] = torch.stack([torch.mean(trained_kernel, 1)]*6, dim=1)\n",
    "    model._conv_stem = new_conv\n",
    "    return model"
   ]
  },
  {
   "cell_type": "code",
   "execution_count": 111,
   "metadata": {},
   "outputs": [],
   "source": [
    "def evaluate(model, test_loader):\n",
    "    model.cuda()\n",
    "    predictions = []\n",
    "    truth = []\n",
    "    for i, (data, target) in tqdm(enumerate(test_loader), total=len(test_loader)):\n",
    "        data, target = data.cuda(), target[:,0].long().cuda()\n",
    "        with torch.no_grad():\n",
    "            outputs = model(data)\n",
    "        predictions.append(outputs.argmax(dim=1).cpu().numpy())\n",
    "    predictions = np.array(predictions).flatten()\n",
    "    return predictions"
   ]
  },
  {
   "cell_type": "code",
   "execution_count": 112,
   "metadata": {},
   "outputs": [],
   "source": [
    "def train(model, train_loader, num_epochs=NUM_EPOCHS, timestamp=None, test_loader=None):\n",
    "    history = {}\n",
    "    if timestamp is None:\n",
    "        timestamp = datetime.now().strftime(\"%m-%d_%H-%M\")\n",
    "    history['timestamp'] = timestamp\n",
    "    history['loss'] = []\n",
    "    history['predictions'] = {}\n",
    "    log_dir = os.path.join(LOG_DIR, 'baseline_{}'.format(timestamp))\n",
    "    if not os.path.exists(log_dir):\n",
    "        os.mkdir(log_dir)\n",
    "    model = model.cuda()\n",
    "    criterion = nn.CrossEntropyLoss()\n",
    "    optimizer = torch.optim.Adam(model.parameters())\n",
    "    for epoch in range(num_epochs):\n",
    "        print(f'--------EPOCH {epoch+1}--------')\n",
    "        for i, (data, target) in tqdm(enumerate(train_loader), total=len(train_loader)):\n",
    "            data, target = data.cuda(), target[:,0].long().cuda()\n",
    "            #print(data.shape)\n",
    "            outputs = model(data)\n",
    "            loss = criterion(outputs, target)\n",
    "            optimizer.zero_grad()\n",
    "            loss.backward()\n",
    "            optimizer.step()\n",
    "            history['loss'].append(loss.detach().cpu().numpy())\n",
    "\n",
    "            if (i+1) % 100 == 0:\n",
    "                print('Epoch [{}/{}], Step [{}/{}], Loss: {:.4f}'\n",
    "                     .format(epoch+1, num_epochs, i+1, len(train_loader), loss.item()))\n",
    "\n",
    "        \n",
    "        if (epoch + 1) % VAL_EVERY == 0:\n",
    "            if test_loader is not None:\n",
    "                print('Evaluating model.')\n",
    "                history['predictions'][epoch+1] = evaluate(model, test_loader)\n",
    "                print('{:.3f}'.format(history['accuracy'][epoch+1]))\n",
    "\n",
    "\n",
    "        if (epoch + 1) % SAVE_EVERY == 0:\n",
    "            print('Creating a checkpoint.')\n",
    "            torch.save(model.state_dict(), os.path.join(log_dir, \n",
    "                                                        'baseline_{:02}.pt'.format(epoch+1)))\n",
    "    return history"
   ]
  },
  {
   "cell_type": "code",
   "execution_count": null,
   "metadata": {},
   "outputs": [],
   "source": [
    "# histories = []\n",
    "# for i in range(10):\n",
    "#     model = baseline_model()\n",
    "#     hist = train(model, train_loader=train_loader, test_loader=test_loader)\n",
    "#     histories.append(hist)"
   ]
  },
  {
   "cell_type": "code",
   "execution_count": 72,
   "metadata": {},
   "outputs": [
    {
     "name": "stderr",
     "output_type": "stream",
     "text": [
      "/home/kaandonbekci/anaconda3/envs/recursion/lib/python3.6/site-packages/sklearn/metrics/classification.py:1437: UndefinedMetricWarning: Precision and F-score are ill-defined and being set to 0.0 in labels with no predicted samples.\n",
      "  'precision', 'predicted', average, warn_for)\n"
     ]
    }
   ],
   "source": [
    "report = classification_report(truth, predictions, output_dict=True)"
   ]
  },
  {
   "cell_type": "code",
   "execution_count": 77,
   "metadata": {},
   "outputs": [],
   "source": [
    "f1_scores = []\n",
    "precisions = []\n",
    "recalls = []\n",
    "for k in range(1108):\n",
    "    scores = report[str(k)]\n",
    "    f1_scores.append(scores['f1-score'])\n",
    "    precisions.append(scores['precision'])\n",
    "    recalls.append(scores['recall'])"
   ]
  },
  {
   "cell_type": "code",
   "execution_count": 110,
   "metadata": {},
   "outputs": [
    {
     "data": {
      "image/png": "[encoded data removed]",
      "text/plain": [
       "<Figure size 1080x360 with 3 Axes>"
      ]
     },
     "metadata": {},
     "output_type": "display_data"
    }
   ],
   "source": [
    "fig, axes = plt.subplots(1, 3, figsize=(15, 5))\n",
    "axes[0].set_title('Precision')\n",
    "axes[0].hist(precisions)\n",
    "axes[1].set_title('Recall')\n",
    "axes[1].hist(recalls)\n",
    "axes[2].set_title('F-1 Score')\n",
    "_=axes[2].hist(f1_scores)"
   ]
  },
  {
   "cell_type": "code",
   "execution_count": 18,
   "metadata": {},
   "outputs": [],
   "source": [
    "accuracies = [[] for i in range(10)]\n",
    "for i, h in enumerate(histories):\n",
    "    for e in h['accuracy']:\n",
    "        accuracies[i].append(h['accuracy'][e])"
   ]
  },
  {
   "cell_type": "code",
   "execution_count": 20,
   "metadata": {},
   "outputs": [],
   "source": [
    "accuracies = np.array(accuracies)\n",
    "mean_accuracies = accuracies.mean(axis=0)\n",
    "std_accuracies = accuracies.std(axis=0)"
   ]
  },
  {
   "cell_type": "code",
   "execution_count": 117,
   "metadata": {},
   "outputs": [
    {
     "data": {
      "image/png": "[encoded data removed]",
      "text/plain": [
       "<Figure size 576x360 with 1 Axes>"
      ]
     },
     "metadata": {},
     "output_type": "display_data"
    }
   ],
   "source": [
    "x = np.arange(5, 26, 5)\n",
    "fig = plt.figure(figsize=(8, 5))\n",
    "plt.suptitle('Val accuracy vs epoch')\n",
    "plt.plot(x, mean_accuracies, label='average')\n",
    "for i in range(10):\n",
    "    plt.scatter(x, accuracies[i])\n",
    "plt.xlabel('Epoch')\n",
    "plt.legend()\n",
    "_=plt.ylabel('Accuracy')"
   ]
  },
  {
   "cell_type": "code",
   "execution_count": 119,
   "metadata": {},
   "outputs": [],
   "source": [
    "results = {}\n",
    "results['mean_accuracies'] = mean_accuracies\n",
    "results['std_accuracies'] = std_accuracies\n",
    "results['epochs'] = np.arange(5, 26, 5)"
   ]
  },
  {
   "cell_type": "code",
   "execution_count": 123,
   "metadata": {},
   "outputs": [],
   "source": [
    "with open(os.path.join(DUMP_DIR, 'baseline_10epochs_results.pkl'),'wb') as f:\n",
    "    pickle.dump(results, f)"
   ]
  },
  {
   "cell_type": "raw",
   "metadata": {},
   "source": [
    "CHECKPOINT           ACCURACY\n",
    "baseline-5           0.1890\n",
    "baseline-10          0.2098\n",
    "baseline-15          0.2218\n",
    "baseline-20          0.2177\n",
    "\n",
    "\n",
    "MEAN_ACCURACIES\n",
    "0.17330623, 0.22219964, 0.22479675, 0.22330623, 0.22344173"
   ]
  }
 ],
 "metadata": {
  "kernelspec": {
   "display_name": "Python [conda env:recursion]",
   "language": "python",
   "name": "conda-env-recursion-py"
  },
  "language_info": {
   "codemirror_mode": {
    "name": "ipython",
    "version": 3
   },
   "file_extension": ".py",
   "mimetype": "text/x-python",
   "name": "python",
   "nbconvert_exporter": "python",
   "pygments_lexer": "ipython3",
   "version": "3.6.9"
  }
 },
 "nbformat": 4,
 "nbformat_minor": 4
}
