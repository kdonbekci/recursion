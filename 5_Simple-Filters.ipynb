{
 "cells": [
  {
   "cell_type": "code",
   "execution_count": 1,
   "metadata": {},
   "outputs": [],
   "source": [
    "from utils import *\n",
    "import baseline\n",
    "from sklearn.metrics import classification_report\n",
    "import seaborn\n",
    "import rxrx.io\n",
    "seaborn.set()\n",
    "%load_ext autoreload\n",
    "%autoreload 2"
   ]
  },
  {
   "cell_type": "markdown",
   "metadata": {},
   "source": [
    "# Simple Filters"
   ]
  },
  {
   "cell_type": "code",
   "execution_count": 2,
   "metadata": {},
   "outputs": [],
   "source": [
    "def mean_variance_normalization(img):\n",
    "    mu = np.mean(img, axis=(1, 2))\n",
    "    std = np.std(img, axis=(1,2))\n",
    "    return (img - mu[:, None, None])/std[:, None, None]"
   ]
  },
  {
   "cell_type": "code",
   "execution_count": 3,
   "metadata": {},
   "outputs": [],
   "source": [
    "train_loader, val_loader, test_loader = baseline.get_dataset_loaders(batch_size=14, num_workers=10, \n",
    "                                                                     augmentations=[mean_variance_normalization])"
   ]
  },
  {
   "cell_type": "code",
   "execution_count": null,
   "metadata": {},
   "outputs": [
    {
     "name": "stdout",
     "output_type": "stream",
     "text": [
      "Loaded pretrained weights for efficientnet-b0\n",
      "Beginning training for 40 epochs.\n",
      "Will evaluate every 1 epochs.\n",
      "Will checkpoint every 5 epochs.\n",
      "--------EPOCH 1--------\n"
     ]
    },
    {
     "data": {
      "application/vnd.jupyter.widget-view+json": {
       "model_id": "acbd878ccd1749feaeab3d58e8115e0c",
       "version_major": 2,
       "version_minor": 0
      },
      "text/plain": [
       "HBox(children=(IntProgress(value=0, max=633), HTML(value='')))"
      ]
     },
     "metadata": {},
     "output_type": "display_data"
    }
   ],
   "source": [
    "model = baseline.build_model()\n",
    "history = baseline.train(model, train_loader, model_name='baseline',num_epochs=40,save_every=5, \n",
    "                         val_every=1, val_loader=val_loader)"
   ]
  },
  {
   "cell_type": "raw",
   "metadata": {},
   "source": [
    "CHECKPOINT           ACCURACY\n",
    "baseline-5           0.1890\n",
    "baseline-10          0.2098\n",
    "baseline-15          0.2218\n",
    "baseline-20          0.2177\n",
    "\n",
    "\n",
    "MEAN_ACCURACIES\n",
    "0.17330623, 0.22219964, 0.22479675, 0.22330623, 0.22344173"
   ]
  }
 ],
 "metadata": {
  "kernelspec": {
   "display_name": "Python [conda env:recursion]",
   "language": "python",
   "name": "conda-env-recursion-py"
  },
  "language_info": {
   "codemirror_mode": {
    "name": "ipython",
    "version": 3
   },
   "file_extension": ".py",
   "mimetype": "text/x-python",
   "name": "python",
   "nbconvert_exporter": "python",
   "pygments_lexer": "ipython3",
   "version": "3.6.9"
  }
 },
 "nbformat": 4,
 "nbformat_minor": 4
}
